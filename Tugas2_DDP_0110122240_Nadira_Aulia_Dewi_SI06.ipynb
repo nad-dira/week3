{
  "nbformat": 4,
  "nbformat_minor": 0,
  "metadata": {
    "colab": {
      "provenance": [],
      "collapsed_sections": [],
      "authorship_tag": "ABX9TyNwELLagMdg1uKSgZLIJUKS",
      "include_colab_link": true
    },
    "kernelspec": {
      "name": "python3",
      "display_name": "Python 3"
    },
    "language_info": {
      "name": "python"
    }
  },
  "cells": [
    {
      "cell_type": "markdown",
      "metadata": {
        "id": "view-in-github",
        "colab_type": "text"
      },
      "source": [
        "<a href=\"https://colab.research.google.com/github/nad-dira/week3/blob/main/Tugas2_DDP_0110122240_Nadira_Aulia_Dewi_SI06.ipynb\" target=\"_parent\"><img src=\"https://colab.research.google.com/assets/colab-badge.svg\" alt=\"Open In Colab\"/></a>"
      ]
    },
    {
      "cell_type": "code",
      "execution_count": 23,
      "metadata": {
        "id": "--GGcGA6sSUQ",
        "colab": {
          "base_uri": "https://localhost:8080/"
        },
        "outputId": "c7b41044-e101-4858-f6e6-e157ac1d1829"
      },
      "outputs": [
        {
          "output_type": "stream",
          "name": "stdout",
          "text": [
            "Nim: 111\n",
            "Nama: Budi\n",
            "Nilai: 77\n",
            "Nim: 112\n",
            "Nama: Siti\n",
            "Nilai: 96\n",
            "Nim: 113\n",
            "Nama: I Gede\n",
            "Nilai: 55\n",
            "Nim: 114\n",
            "Nama: Joko\n",
            "Nilai: 25\n",
            "Nim: 115\n",
            "Nama: Ahmad\n",
            "Nilai: 85\n",
            "==========DATA MAHASISWA==============\n",
            "Nim\t\t: 111\n",
            "Nama\t\t: Budi\n",
            "Nilai\t\t: 77.00\n",
            "Keterangan\t: Lulus\n",
            "Grade\t\t: B\n",
            "Predikat\t: Bagus\n",
            "==========DATA MAHASISWA==============\n",
            "Nim\t\t: 112\n",
            "Nama\t\t: Siti\n",
            "Nilai\t\t: 96.00\n",
            "Keterangan\t: Lulus\n",
            "Grade\t\t: A\n",
            "Predikat\t: Memuaskan\n",
            "==========DATA MAHASISWA==============\n",
            "Nim\t\t: 113\n",
            "Nama\t\t: I Gede\n",
            "Nilai\t\t: 55.00\n",
            "Keterangan\t: Gagal\n",
            "Grade\t\t: D\n",
            "Predikat\t: Kurang\n",
            "==========DATA MAHASISWA==============\n",
            "Nim\t\t: 114\n",
            "Nama\t\t: Joko\n",
            "Nilai\t\t: 25.00\n",
            "Keterangan\t: Gagal\n",
            "Grade\t\t: E\n",
            "Predikat\t: Buruk\n",
            "==========DATA MAHASISWA==============\n",
            "Nim\t\t: 115\n",
            "Nama\t\t: Ahmad\n",
            "Nilai\t\t: 85.00\n",
            "Keterangan\t: Lulus\n",
            "Grade\t\t: A\n",
            "Predikat\t: Memuaskan\n"
          ]
        }
      ],
      "source": [
        "#Tugas 2 DDP \n",
        "\n",
        "#Input Data\n",
        "\n",
        "data = []\n",
        "for I in range(5):\n",
        "      nim = int(input(\"Nim: \"))\n",
        "      nama = str(input(\"Nama: \"))\n",
        "      nilai = float(input(\"Nilai: \"))\n",
        "\n",
        "      data.append({\"Nim\": nim, \"Nama\": nama, \"nilai\": nilai})\n",
        "\n",
        "#Nilai Dan Keterangan\n",
        "for all in range(len(data)):\n",
        "\n",
        "    keterangan = (\"Gagal\", \"Lulus\")[data[all][\"nilai\"] >=60]\n",
        "\n",
        "    if(data[all][\"nilai\"] >= 85 <= 100):\n",
        "        grade = \"A\"\n",
        "        predikat = \"Memuaskan\"\n",
        "    elif(data[all][\"nilai\"] >= 75 < 85):\n",
        "        grade = \"B\"\n",
        "        predikat = \"Bagus\"\n",
        "    elif(data[all][\"nilai\"] >= 60 < 75):\n",
        "        grade = \"C\"\n",
        "        predikat = \"Cukup\"\n",
        "    elif(data[all][\"nilai\"] >= 30 < 60):\n",
        "        grade = \"D\"\n",
        "        predikat = \"Kurang\"\n",
        "    else:\n",
        "        grade = \"E\"\n",
        "        predikat = \"Buruk\"\n",
        "\n",
        "    print(\"==========DATA MAHASISWA==============\"\n",
        "    \"\\nNim\\t\\t: %i\"\n",
        "    \"\\nNama\\t\\t: %s\"\n",
        "    \"\\nNilai\\t\\t: %.2f\"\n",
        "    \"\\nKeterangan\\t: %s\"\n",
        "    \"\\nGrade\\t\\t: %s\"\n",
        "    \"\\nPredikat\\t: %s\"\n",
        "    %(data[all][\"Nim\"], data[all][\"Nama\"], data[all][\"nilai\"], keterangan, grade, predikat))"
      ]
    }
  ]
}